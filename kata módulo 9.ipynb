{
 "cells": [
  {
   "cell_type": "markdown",
   "metadata": {},
   "source": [
    "# Módulo 9: Funciones"
   ]
  },
  {
   "cell_type": "code",
   "execution_count": null,
   "metadata": {},
   "outputs": [],
   "source": [
    "def combustible_level(tanque1=50,tanque2=100,tanque3=0):\n",
    "    print(f'''Combustible en los tanques:\n",
    "Tanque 1={tanque1}, Tanque 2={tanque2}, Tanque 3={tanque3}\n",
    "El promedio de combustible es {(tanque1+tanque2+tanque3)/3}''')\n",
    "combustible_level()\n",
    "\n",
    "def prom_Combus(*values):\n",
    "    return sum(values)/len(values)\n",
    "print (prom_Combus(25,80,50))"
   ]
  },
  {
   "cell_type": "code",
   "execution_count": null,
   "metadata": {},
   "outputs": [],
   "source": [
    "def combustible_level(tanque1=50,tanque2=100,tanque3=0):\n",
    "    print(f'''Combustible en los tanques:\n",
    "Tanque 1={tanque1}, Tanque 2={tanque2}, Tanque 3={tanque3}\n",
    "El promedio de combustible es {prom_Combus(tanque1,tanque2,tanque3)}''')\n",
    "def prom_Combus(*values):\n",
    "    return sum(values)/len(values)\n",
    "\n",
    "combustible_level(20,30,100)"
   ]
  },
  {
   "cell_type": "code",
   "execution_count": 10,
   "metadata": {},
   "outputs": [
    {
     "name": "stdout",
     "output_type": "stream",
     "text": [
      "Informe de la misión:\n",
      "Destino de la mision marte.\n",
      "tiempo de mision 32.5 hrs\n",
      "combustible total 190 galones\n",
      "\n",
      "Informe de la misión:\n",
      "Destino de la mision marte.\n",
      "tiempo de mision 100 hrs\n",
      "combustible total 900\n",
      " tanque principal con 400 galones\n",
      " tanque secundario con 500 galones\n",
      "\n"
     ]
    }
   ],
   "source": [
    "def informe_mision(hr_prelaunch,tiempo,destino,tanque_externo,tanque_interno):\n",
    "    return f'''Informe de la misión:\n",
    "Destino de la mision {destino}.\n",
    "tiempo de mision {hr_prelaunch+tiempo} hrs\n",
    "combustible total {tanque_externo+tanque_interno} galones'''\n",
    "\n",
    "print(informe_mision(12.50,20,\"marte\",100,90))\n",
    "\n",
    "def informe_mision(*minutes,destino,**fuel_reserv):\n",
    "    reporte= f'''\n",
    "Informe de la misión:\n",
    "Destino de la mision {destino}.\n",
    "tiempo de mision {sum(minutes)} hrs\n",
    "combustible total {sum(fuel_reserv.values())}\\n'''\n",
    "    for tanq,gal in fuel_reserv.items():\n",
    "        reporte+= f' tanque {tanq} con {gal} galones\\n'\n",
    "    return reporte\n",
    "\n",
    "\n",
    "print(informe_mision(20,30,50,destino=\"marte\",principal=400,secundario=500))"
   ]
  }
 ],
 "metadata": {
  "interpreter": {
   "hash": "09ae5b3e532486b8979c78cb4ac6d36c458415230a008d3a4e2607513813b731"
  },
  "kernelspec": {
   "display_name": "Python 3.9.10 64-bit (system)",
   "language": "python",
   "name": "python3"
  },
  "language_info": {
   "codemirror_mode": {
    "name": "ipython",
    "version": 3
   },
   "file_extension": ".py",
   "mimetype": "text/x-python",
   "name": "python",
   "nbconvert_exporter": "python",
   "pygments_lexer": "ipython3",
   "version": "3.9.10"
  },
  "orig_nbformat": 4
 },
 "nbformat": 4,
 "nbformat_minor": 2
}
