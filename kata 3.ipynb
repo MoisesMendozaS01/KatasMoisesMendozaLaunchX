{
 "cells": [
  {
   "cell_type": "code",
   "execution_count": null,
   "metadata": {},
   "outputs": [],
   "source": []
  },
  {
   "cell_type": "markdown",
   "metadata": {},
   "source": [
    "# Módulo 3: Usar lógica booleana\n",
    "\n",
    "Expresiones de prueba"
   ]
  },
  {
   "cell_type": "code",
   "execution_count": null,
   "metadata": {},
   "outputs": [],
   "source": [
    "# Tip de práctica 1: Intenta ejecutarlo en un notebook.\n",
    "a = 97\n",
    "b = 55\n",
    "# test expression / expresión de prueba\n",
    "if a < b:\n",
    "    # statement to be run / instrucción a ejecutar\n",
    "    print(b)\n",
    "\n",
    "# Aplica el tip de práctica 1.\n",
    "a = 93\n",
    "b = 27\n",
    "if a >= b:\n",
    "    print(str(a) + ' es mayor que ' + str(b))\n",
    "\n",
    "a = 24\n",
    "b = 44\n",
    "if a <= 0:\n",
    "    print(a)\n",
    "print(b)\n",
    "\n",
    "a = 93\n",
    "b = 27\n",
    "if a >= b:\n",
    "    print(a)\n",
    "else:\n",
    "    print(b)"
   ]
  },
  {
   "cell_type": "markdown",
   "metadata": {},
   "source": [
    "Ejercicio escribir declaraciones"
   ]
  },
  {
   "cell_type": "code",
   "execution_count": null,
   "metadata": {},
   "outputs": [],
   "source": [
    "a= input(\"inserte velocidad del asteroide en Km/s\")\n",
    "if int(a) > 25:\n",
    "    print(\"Precaución: Un asteroide se acerca a la Tierra demasiado rápido, con una velocidad de \" + str(a) + \" Km/s\")\n",
    "else:\n",
    "    print(\"sigue con tu dia\")\n",
    "\n",
    "    \n",
    "b= input(\"inserte velocidad del asteroide en Km/s\")\n",
    "if int(b) > 20:\n",
    "    print(\"!acaba de entrar un asteroide a la atmosfera! !Sal a buscar el asteroide en el cielo!\")\n",
    "elif int(b) == 20:\n",
    "    print(\"!acaba de entrar un asteroide a la atmosfera! !Sal a buscar el asteroide en el cielo!\")\n",
    "else:\n",
    "    print(\"!acaba de entrar un asteroide a la atmosfera!\")"
   ]
  },
  {
   "cell_type": "markdown",
   "metadata": {},
   "source": [
    "Uso de operadores or y and"
   ]
  },
  {
   "cell_type": "code",
   "execution_count": null,
   "metadata": {},
   "outputs": [],
   "source": [
    "a=input(\"inserte dimencion de asteroide\")\n",
    "b=input(\"inserte velocidad del asteroide\")\n",
    "print(\"Dimensión del asteroide: \" + a + \" metros. Velocidad: \" + b + \" km/s\")\n",
    "\n",
    "if (int(a) > 25 and int(a) <=1000) or int(b) > 25:\n",
    "    print(\"!Alerta el asteroide puede causar mucho daño!\")\n",
    "elif int(b) >= 20:\n",
    "        print(\"!Sal a buscar el asteroide en el cielo! !será increible!\")\n",
    "else:\n",
    "    print(\"!manten la calma!\")\n"
   ]
  }
 ],
 "metadata": {
  "language_info": {
   "name": "python"
  },
  "orig_nbformat": 4
 },
 "nbformat": 4,
 "nbformat_minor": 2
}
