{
 "cells": [
  {
   "cell_type": "markdown",
   "metadata": {},
   "source": [
    "# Módulo 8: administrar datos"
   ]
  },
  {
   "cell_type": "code",
   "execution_count": 9,
   "metadata": {},
   "outputs": [
    {
     "name": "stdout",
     "output_type": "stream",
     "text": [
      "El planeta marte tiene 1 lunas\n",
      "El planeta marte y su circunferencia polar es 6752\n"
     ]
    }
   ],
   "source": [
    "planet ={\n",
    "    'name': 'marte',\n",
    "    'moons':1\n",
    "    }\n",
    "print('El planeta',planet.get('name'),'tiene',planet.get('moons'),'lunas')\n",
    "\n",
    "planet['circunferencia (km)'] = {\n",
    "    'polar':6752 ,\n",
    "    'equatorial':6792\n",
    "}\n",
    "print(f'El planeta {planet[\"name\"]} y su circunferencia polar es {planet[\"circunferencia (km)\"][\"polar\"]}')"
   ]
  },
  {
   "cell_type": "code",
   "execution_count": 14,
   "metadata": {},
   "outputs": [
    {
     "name": "stdout",
     "output_type": "stream",
     "text": [
      "12\n",
      "El promedio de las lunas es 17.833333333333332\n"
     ]
    }
   ],
   "source": [
    "# Planets and moons\n",
    "\n",
    "planet_moons = {\n",
    "    'mercury': 0,\n",
    "    'venus': 0,\n",
    "    'earth': 1,\n",
    "    'mars': 2,\n",
    "    'jupiter': 79,\n",
    "    'saturn': 82,\n",
    "    'uranus': 27,\n",
    "    'neptune': 14,\n",
    "    'pluto': 5,\n",
    "    'haumea': 2,\n",
    "    'makemake': 1,\n",
    "    'eris': 1\n",
    "}\n",
    "\n",
    "moons=planet_moons.values()\n",
    "planetas=len(moons)\n",
    "print(planetas)\n",
    "\n",
    "total_moons=0\n",
    "for values in moons:\n",
    "    total_moons=total_moons+values\n",
    "print('El promedio de las lunas es', total_moons/planetas)"
   ]
  }
 ],
 "metadata": {
  "interpreter": {
   "hash": "09ae5b3e532486b8979c78cb4ac6d36c458415230a008d3a4e2607513813b731"
  },
  "kernelspec": {
   "display_name": "Python 3.9.10 64-bit (system)",
   "language": "python",
   "name": "python3"
  },
  "language_info": {
   "codemirror_mode": {
    "name": "ipython",
    "version": 3
   },
   "file_extension": ".py",
   "mimetype": "text/x-python",
   "name": "python",
   "nbconvert_exporter": "python",
   "pygments_lexer": "ipython3",
   "version": "3.9.10"
  },
  "orig_nbformat": 4
 },
 "nbformat": 4,
 "nbformat_minor": 2
}
