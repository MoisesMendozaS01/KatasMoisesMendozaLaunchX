{
 "cells": [
  {
   "cell_type": "code",
   "execution_count": null,
   "metadata": {},
   "outputs": [],
   "source": []
  },
  {
   "cell_type": "markdown",
   "metadata": {},
   "source": [
    "# Modulo 4: Cadenas"
   ]
  },
  {
   "cell_type": "code",
   "execution_count": null,
   "metadata": {},
   "outputs": [],
   "source": [
    "# Ejercicio 1:\n",
    "text = \"\"\"Interesting facts about the Moon. The Moon is Earth's only satellite. There are several interesting facts about the Moon and how it affects life here on Earth. \n",
    "On average, the Moon moves 4cm away from the Earth every year. This yearly drift is not significant enough to cause immediate effects on Earth. The highest daylight temperature of the Moon is 127 C.\"\"\"\n",
    "splittext =text.split('. ')\n",
    "print(splittext)\n",
    "\n",
    "for item in splittext:\n",
    "    for item2 in (item.replace(',','')).split():\n",
    "        if (item2==\"average\" or item2==\"distance\" or item2==\"temperature\"):\n",
    "            print(item)\n",
    "\n",
    "for item in splittext:\n",
    "    for item2 in (item.replace(',','')).split():\n",
    "        if (item2==\"C.\"):\n",
    "            print(item.replace('C.','Celsius'))\n",
    "\n"
   ]
  },
  {
   "cell_type": "code",
   "execution_count": null,
   "metadata": {},
   "outputs": [],
   "source": [
    "# Formateando cadenas\n",
    "\n",
    "# Datos con los que vas a trabajar\n",
    "name = \"Moon\"\n",
    "gravity = 0.00162 # in kms\n",
    "planet = \"Earth\"\n",
    "\n",
    "Titulo = f'Datos de gravedad de {name}'\n",
    "print(Titulo)\n",
    "\n",
    "Datos=f\"\"\"Nombre del planeta : {planet}\n",
    "Gravedad en {name} : {gravity*1000} m/s\"\"\"\n",
    "print(Datos)\n",
    "\n",
    "Union=Datos=f\"\"\" \n",
    "{Titulo.title()}\n",
    "{Datos}\"\"\"\n",
    "print(Union)\n",
    "\n",
    "#Ahora usa información de una luna diferente para ver si la plantilla todavía funciona.\n",
    "print(f'{\"-\"*10}')\n",
    "#Datos muestra: \n",
    "planet = 'Marte '\n",
    "gravity  = 0.00143\n",
    "name = 'Ganímedes'\n",
    "\n",
    "Union=f\"\"\" \n",
    "{Titulo.title()}\n",
    "{Datos}\"\"\"\n",
    "print(Union)\n",
    "\n"
   ]
  },
  {
   "cell_type": "code",
   "execution_count": null,
   "metadata": {},
   "outputs": [],
   "source": [
    "name = 'Ganímedes'\n",
    "gravity  = 0.00143\n",
    "planet = 'Marte '\n",
    "\n",
    "plantilla=f\"\"\"Datos de gravedad de {name}\n",
    "Nombre del planeta : {planet}\n",
    "Gravedad en {name} : {gravity} m/s\n",
    "\"\"\"\n",
    "\n",
    "print(plantilla.format(name=name, gravity=gravity*1000, planet=planet))"
   ]
  }
 ],
 "metadata": {
  "language_info": {
   "name": "python"
  },
  "orig_nbformat": 4
 },
 "nbformat": 4,
 "nbformat_minor": 2
}
