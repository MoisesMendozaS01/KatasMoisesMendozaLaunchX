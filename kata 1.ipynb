{
 "cells": [
  {
   "cell_type": "code",
   "execution_count": null,
   "metadata": {},
   "outputs": [],
   "source": []
  },
  {
   "cell_type": "markdown",
   "metadata": {},
   "source": [
    "# Módulo 1: Primeros pasos"
   ]
  },
  {
   "cell_type": "code",
   "execution_count": null,
   "metadata": {},
   "outputs": [],
   "source": [
    "print('--1-- Un programa Python')\n",
    "sum =1+2\n",
    "print(sum)\n",
    "\n",
    "print('--2-- La funcion print')\n",
    "print('Hola desde la consola')\n",
    "\n",
    "print('--3-- Variables')\n",
    "sum=1 + 2 # 3\n",
    "product = sum * 2\n",
    "print(product)\n",
    "\n",
    "print('--4-- Tipos de datos')\n",
    "planetas_en_el_sistema_solar = 8 # int, pluton era consideradoun planeta, pero ya es muy pequeño\n",
    "print(type(planetas_en_el_sistema_solar))\n",
    "distancia_a_alfa_centauri = 4.367 # float, años luz\n",
    "print(type(distancia_a_alfa_centauri))\n",
    "puede_despegar = True\n",
    "print(type(puede_despegar))\n",
    "transbordador_que_aterrizo_en_la_luna = \"Apolo 11\" #string\n",
    "print(type(transbordador_que_aterrizo_en_la_luna))\n",
    "\n",
    "print('--5-- Operador ')\n",
    "left_side=10\n",
    "rigth_side=5\n",
    "print(left_side / rigth_side) #2\n",
    "\n",
    "print('--6-- Operadores de aritmeticos')\n",
    "print(1+1)\n",
    "print(1-2)\n",
    "print(10/2)\n",
    "print(2*2)\n",
    "\n",
    "print('--7-- Operadores de asignación')\n",
    "x=4 \n",
    "print(x)\n",
    "x+=2\n",
    "print(x)\n",
    "x-=2\n",
    "print(x)\n",
    "x/=2\n",
    "print(x)\n",
    "x*=2\n",
    "print(x)\n",
    "\n",
    "print('--8-- Fechas')\n",
    "from datetime import date\n",
    "print(date.today())\n",
    "\n",
    "print('--9-- conversión de tipo de datos')\n",
    "print(\"Today´s date is : \" + str(date.today()))"
   ]
  },
  {
   "cell_type": "markdown",
   "metadata": {},
   "source": [
    "Recopilar información"
   ]
  },
  {
   "cell_type": "code",
   "execution_count": null,
   "metadata": {},
   "outputs": [],
   "source": [
    "print('--1-- Entrada del usuario')\n",
    "print(\"Bienbenido al programa\")\n",
    "name= input(\"introduzca su nombre \")\n",
    "print(\"saludos: \" + name)\n",
    "\n",
    "print('--2-- Trabajar con números')\n",
    "print(\"Calculadora\")\n",
    "first_number = input(\"Primer número :\")\n",
    "second_number = input(\"Segundo número :\")\n",
    "print(first_number + second_number)\n",
    "\n",
    "print(int(first_number) + int(second_number))"
   ]
  },
  {
   "cell_type": "markdown",
   "metadata": {},
   "source": [
    "## Tu Primer programa | Construir un convertidor de unidades\n",
    "\n"
   ]
  },
  {
   "cell_type": "code",
   "execution_count": null,
   "metadata": {},
   "outputs": [],
   "source": [
    "# Primer programa\n",
    "from datetime import date\n",
    "print(\"Primer programa:\")\n",
    "print(\"Today´s date is: \" + str(date.today()))\n",
    "\n",
    "# Convertidor de unidades\n",
    "parsec=input(\"introduzca la cantidad de parsec=\")\n",
    "lightyears= 3.26156 * int(parsec)\n",
    "print(parsec + \" parsec is \" + str(lightyears) + \" lightyears\")"
   ]
  }
 ],
 "metadata": {
  "language_info": {
   "name": "python"
  },
  "orig_nbformat": 4
 },
 "nbformat": 4,
 "nbformat_minor": 2
}
