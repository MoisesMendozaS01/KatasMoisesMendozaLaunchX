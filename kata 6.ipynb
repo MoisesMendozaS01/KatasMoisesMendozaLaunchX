{
 "cells": [
  {
   "cell_type": "code",
   "execution_count": null,
   "metadata": {},
   "outputs": [],
   "source": []
  },
  {
   "cell_type": "markdown",
   "metadata": {},
   "source": [
    "# Modulo 6 : Listas"
   ]
  },
  {
   "cell_type": "code",
   "execution_count": null,
   "metadata": {},
   "outputs": [],
   "source": [
    "#Listas de planetas\n",
    "\n",
    "planets=['mercurio','venus','tierra','marte','jupiter','saturno','urano','neptuno']\n",
    "print('En el sistema solar hay',len(planets), 'planetas')\n",
    "\n",
    "planets.append('pluton')\n",
    "print('En el sistema solar hay',len(planets), 'planetas y el ultimo es',planets[8])"
   ]
  },
  {
   "cell_type": "code",
   "execution_count": null,
   "metadata": {},
   "outputs": [],
   "source": [
    "planets = ['mercurio','venus','tierra','marte','jupiter','saturno','urano','neptuno']\n",
    "input_planet=(input(\"Inserte el nombre del planeta\")).lower()\n",
    "##print(planets.index(input_planet))\n",
    "\n",
    "print('Los planetas mas cercanos al sol con respecto a',input_planet,'son:',planets[0:(planets.index(input_planet))])\n",
    "print('Los planetas mas lejanos al sol con respecto a',input_planet,'son:',planets[(planets.index(input_planet))+1:])\n"
   ]
  }
 ],
 "metadata": {
  "language_info": {
   "name": "python"
  },
  "orig_nbformat": 4
 },
 "nbformat": 4,
 "nbformat_minor": 2
}
