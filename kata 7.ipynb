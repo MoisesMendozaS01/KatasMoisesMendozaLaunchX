{
 "cells": [
  {
   "cell_type": "code",
   "execution_count": null,
   "metadata": {},
   "outputs": [],
   "source": []
  },
  {
   "cell_type": "markdown",
   "metadata": {},
   "source": [
    "# Módulo 7 : Estructuras"
   ]
  },
  {
   "cell_type": "code",
   "execution_count": null,
   "metadata": {},
   "outputs": [],
   "source": [
    "new_planetas = ''\n",
    "list_planetas = []\n",
    "\n",
    "while new_planetas.lower() != 'done':\n",
    "    if new_planetas:\n",
    "        list_planetas.append(new_planetas)\n",
    "    new_planetas = input('ingresa el nombre de un planeta, o \"done\" si has terminado')\n",
    "\n",
    "\n",
    "for planet in list_planetas:\n",
    "    print(planet)"
   ]
  }
 ],
 "metadata": {
  "language_info": {
   "name": "python"
  },
  "orig_nbformat": 4
 },
 "nbformat": 4,
 "nbformat_minor": 2
}
