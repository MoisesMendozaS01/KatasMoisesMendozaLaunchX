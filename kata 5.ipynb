{
 "cells": [
  {
   "cell_type": "code",
   "execution_count": null,
   "metadata": {},
   "outputs": [],
   "source": []
  },
  {
   "cell_type": "markdown",
   "metadata": {},
   "source": [
    "# Módulo 5: Operaciones matematicas"
   ]
  },
  {
   "cell_type": "code",
   "execution_count": null,
   "metadata": {},
   "outputs": [],
   "source": [
    "distancia_Tierra=149597870\n",
    "distancia_Jupiter=778547200\n",
    "\n",
    "distotal=distancia_Jupiter-distancia_Tierra\n",
    "print(distotal)\n",
    "\n",
    "print(distotal*1.609344)"
   ]
  },
  {
   "cell_type": "code",
   "execution_count": null,
   "metadata": {},
   "outputs": [],
   "source": [
    "# Distancia entre dos planetas\n",
    "\n",
    "planeta_uno=input(\"Inserte nombre del planeta\")\n",
    "dist_p_uno=input(f'Inserte la distancia del planeta {planeta_uno} al sol')\n",
    "\n",
    "planeta_dos=input(\"Inserte nombre del planeta\")\n",
    "dist_p_dos=input(f'Inserte la distancia del planeta {planeta_dos} al sol')\n",
    "\n",
    "print(f\"\"\"La distancia entre el planeta {planeta_uno} y {planeta_dos} es de {abs(int(dist_p_uno)-int(dist_p_dos))} km\n",
    "    La distancia en millas es de {abs(int(dist_p_uno)-int(dist_p_dos))*1.609344}\"\"\")"
   ]
  }
 ],
 "metadata": {
  "language_info": {
   "name": "python"
  },
  "orig_nbformat": 4
 },
 "nbformat": 4,
 "nbformat_minor": 2
}
